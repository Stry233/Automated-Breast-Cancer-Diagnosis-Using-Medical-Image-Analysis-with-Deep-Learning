{
 "cells": [
  {
   "cell_type": "code",
   "execution_count": null,
   "metadata": {},
   "outputs": [],
   "source": [
    "# HARD TO UNDERSTAND\n",
    "\n",
    "import cv2.cv as cv\n",
    " \n",
    "im=cv.LoadImage('C:/Users/JAM_0/Desktop/th.jpg', cv.CV_LOAD_IMAGE_GRAYSCALE)\n",
    " \n",
    "sobx = cv.CreateImage(cv.GetSize(im), cv.IPL_DEPTH_16S, 1)\n",
    "cv.Sobel(im, sobx, 1, 0, 3) #Sobel with x-order=1\n",
    " \n",
    "soby = cv.CreateImage(cv.GetSize(im), cv.IPL_DEPTH_16S, 1)\n",
    "cv.Sobel(im, soby, 0, 1, 3) #Sobel withy-oder=1\n",
    " \n",
    "cv.Abs(sobx, sobx)\n",
    "cv.Abs(soby, soby)\n",
    " \n",
    "result = cv.CloneImage(im)\n",
    "cv.Add(sobx, soby, result) #Add the two results together.\n",
    " \n",
    "cv.Threshold(result, result, 100, 255, cv.CV_THRESH_BINARY_INV)\n",
    " \n",
    "cv.ShowImage('Image', im)\n",
    "cv.ShowImage('Result', result)\n",
    " \n",
    "cv.WaitKey(0)"
   ]
  },
  {
   "cell_type": "code",
   "execution_count": null,
   "metadata": {},
   "outputs": [],
   "source": [
    "# NOT GOOD!\n",
    "\n",
    "import cv2  \n",
    "  \n",
    "img = cv2.imread('../input/Pic/th.jpg')\n",
    "gray = cv2.cvtColor(img,cv2.COLOR_BGR2GRAY)  \n",
    "ret, binary = cv2.threshold(gray,127,255,cv2.THRESH_BINARY)  \n",
    "  \n",
    "binary , contours, hierarchy = cv2.findContours(binary,cv2.RETR_TREE,cv2.CHAIN_APPROX_SIMPLE)    # 输出为三个参数\n",
    "cv2.drawContours(img,contours,-1,(0,0,255),3)  \n",
    "  \n",
    "cv2.imshow(\"img\", img)  \n",
    "cv2.waitKey(0) "
   ]
  },
  {
   "cell_type": "code",
   "execution_count": null,
   "metadata": {},
   "outputs": [],
   "source": [
    "# C！！？？\n",
    "\n",
    "<pre name=\"code\" class=\"cpp\">#include \"stdafx.h\"\n",
    "#include \"cv.h\"\n",
    "#include \"highgui.h\"\n",
    "#include \"cxcore.h\"\n",
    " \n",
    "int main(int argc, char* argv[])\n",
    "{\n",
    "    IplImage* src;\n",
    "    int area;\n",
    "    src=cvLoadImage(\"E:\\\\grayimage.jpg\",0); //加载并显示原始灰度图像\n",
    "    cvNamedWindow( \"PIC\", 1);\n",
    "    cvShowImage(\"PIC\",src);     \n",
    "    IplImage* dst = cvCreateImage(cvGetSize(src), 8, 3 );   //申请三通道的目标图像\n",
    "    int num=0;\n",
    "    int count=0;\n",
    "    CvMemStorage* storage =cvCreateMemStorage(0);\n",
    "    CvSeq* contour = 0;\n",
    "    cvThreshold( src, src, 100,255.0,CV_THRESH_BINARY );     //二值化\n",
    "    cvFindContours( src, storage,&contour, sizeof(CvContour), CV_RETR_CCOMP, CV_CHAIN_APPROX_SIMPLE );//二值图轮廓检索;\n",
    "    cvZero( dst ); \n",
    "\t\n",
    "   //遍历每个轮廓\n",
    "   for( ; contour != 0; contour =contour->h_next )\n",
    "     {\n",
    "        //获取当前轮廓面积,并用随即颜色填充\n",
    "        area= int(fabs(cvContourArea( contour, CV_WHOLE_SEQ )));   //获取当前面积        \n",
    "        num=num+area;\n",
    "        count=count+1;\n",
    "        printf(\"%d:area== %d\\n\", count,area);\n",
    "        CvScalar color = CV_RGB(rand()&255, rand()&255, rand()&255 );   //随即颜色\n",
    "        cvDrawContours( dst, contour,color, color, -1, CV_FILLED, 8 );  //随即颜色填充\n",
    "     }\n",
    "\t \n",
    "    printf(\"num == %d\\n\",num);\n",
    "    printf(\"rectarea:%d\",src->width*src->height);\n",
    "    cvNamedWindow(\"Components\", 1 );\n",
    "    cvShowImage(\"Components\", dst );\n",
    "    cvWaitKey(0);\n",
    "    return 0;\n",
    "}\n"
   ]
  },
  {
   "cell_type": "code",
   "execution_count": null,
   "metadata": {},
   "outputs": [],
   "source": []
  },
  {
   "cell_type": "code",
   "execution_count": 4,
   "metadata": {},
   "outputs": [
    {
     "ename": "ValueError",
     "evalue": "not enough values to unpack (expected 3, got 2)",
     "output_type": "error",
     "traceback": [
      "\u001b[1;31m---------------------------------------------------------------------------\u001b[0m",
      "\u001b[1;31mValueError\u001b[0m                                Traceback (most recent call last)",
      "\u001b[1;32m<ipython-input-4-07500d6620ea>\u001b[0m in \u001b[0;36m<module>\u001b[1;34m\u001b[0m\n\u001b[0;32m      8\u001b[0m \u001b[1;31m# 二值化\u001b[0m\u001b[1;33m\u001b[0m\u001b[1;33m\u001b[0m\u001b[1;33m\u001b[0m\u001b[0m\n\u001b[0;32m      9\u001b[0m \u001b[0mret\u001b[0m\u001b[1;33m,\u001b[0m \u001b[0mbinary\u001b[0m \u001b[1;33m=\u001b[0m \u001b[0mcv2\u001b[0m\u001b[1;33m.\u001b[0m\u001b[0mthreshold\u001b[0m\u001b[1;33m(\u001b[0m\u001b[0mgray\u001b[0m\u001b[1;33m,\u001b[0m \u001b[1;36m175\u001b[0m\u001b[1;33m,\u001b[0m \u001b[1;36m255\u001b[0m\u001b[1;33m,\u001b[0m \u001b[0mcv2\u001b[0m\u001b[1;33m.\u001b[0m\u001b[0mTHRESH_BINARY\u001b[0m\u001b[1;33m)\u001b[0m\u001b[1;33m\u001b[0m\u001b[1;33m\u001b[0m\u001b[0m\n\u001b[1;32m---> 10\u001b[1;33m \u001b[0mimg1\u001b[0m\u001b[1;33m,\u001b[0m \u001b[0mcontours\u001b[0m\u001b[1;33m,\u001b[0m \u001b[0mhierarchy\u001b[0m \u001b[1;33m=\u001b[0m \u001b[0mcv2\u001b[0m\u001b[1;33m.\u001b[0m\u001b[0mfindContours\u001b[0m\u001b[1;33m(\u001b[0m\u001b[0mbinary\u001b[0m\u001b[1;33m,\u001b[0m \u001b[0mcv2\u001b[0m\u001b[1;33m.\u001b[0m\u001b[0mRETR_TREE\u001b[0m\u001b[1;33m,\u001b[0m \u001b[0mcv2\u001b[0m\u001b[1;33m.\u001b[0m\u001b[0mCHAIN_APPROX_SIMPLE\u001b[0m\u001b[1;33m)\u001b[0m\u001b[1;33m\u001b[0m\u001b[1;33m\u001b[0m\u001b[0m\n\u001b[0m\u001b[0;32m     11\u001b[0m \u001b[1;33m\u001b[0m\u001b[0m\n\u001b[0;32m     12\u001b[0m \u001b[1;31m# 以圆形框出\u001b[0m\u001b[1;33m\u001b[0m\u001b[1;33m\u001b[0m\u001b[1;33m\u001b[0m\u001b[0m\n",
      "\u001b[1;31mValueError\u001b[0m: not enough values to unpack (expected 3, got 2)"
     ]
    }
   ],
   "source": [
    "# OUT OF DATE\n",
    "\n",
    "import cv2\n",
    "\n",
    "img = cv2.imread('../input/Pic/th.jpg')\n",
    "# 灰度图像\n",
    "gray = cv2.cvtColor(img, cv2.COLOR_BGR2GRAY)\n",
    "# 二值化\n",
    "ret, binary = cv2.threshold(gray, 175, 255, cv2.THRESH_BINARY)\n",
    "img1, contours, hierarchy = cv2.findContours(binary, cv2.RETR_TREE, cv2.CHAIN_APPROX_SIMPLE)\n",
    "\n",
    "# 以圆形框出\n",
    "for i in range(len(contours)):\n",
    "    (x, y), radius = cv2.minEnclosingCircle(contours[i])\n",
    "center = (int(x), int(y))\n",
    "radius = int(radius)\n",
    "img = cv2.circle(img, center, radius, (0, 255, 0), 2)\n",
    "\n",
    "#以云朵边界轮廓框出\n",
    "cv2.drawContours(img, contours, -1, (0, 0, 255), 2)\n",
    "\n",
    "cv2.imshow(\"img\", img)\n",
    "cv2.waitKey(0)\n",
    "\n"
   ]
  },
  {
   "cell_type": "code",
   "execution_count": 1,
   "metadata": {},
   "outputs": [
    {
     "ename": "error",
     "evalue": "OpenCV(4.1.0) C:\\projects\\opencv-python\\opencv\\modules\\imgproc\\src\\color.cpp:182: error: (-215:Assertion failed) !_src.empty() in function 'cv::cvtColor'\n",
     "output_type": "error",
     "traceback": [
      "\u001b[1;31m---------------------------------------------------------------------------\u001b[0m",
      "\u001b[1;31merror\u001b[0m                                     Traceback (most recent call last)",
      "\u001b[1;32m<ipython-input-1-ff563956e4ce>\u001b[0m in \u001b[0;36m<module>\u001b[1;34m\u001b[0m\n\u001b[0;32m      2\u001b[0m \u001b[1;33m\u001b[0m\u001b[0m\n\u001b[0;32m      3\u001b[0m \u001b[0mimg\u001b[0m \u001b[1;33m=\u001b[0m \u001b[0mcv2\u001b[0m\u001b[1;33m.\u001b[0m\u001b[0mimread\u001b[0m\u001b[1;33m(\u001b[0m\u001b[1;34m'../input/Pic/th.jpg'\u001b[0m\u001b[1;33m)\u001b[0m\u001b[1;33m\u001b[0m\u001b[1;33m\u001b[0m\u001b[0m\n\u001b[1;32m----> 4\u001b[1;33m \u001b[0mgray\u001b[0m \u001b[1;33m=\u001b[0m \u001b[0mcv2\u001b[0m\u001b[1;33m.\u001b[0m\u001b[0mcvtColor\u001b[0m\u001b[1;33m(\u001b[0m\u001b[0mimg\u001b[0m\u001b[1;33m,\u001b[0m\u001b[0mcv2\u001b[0m\u001b[1;33m.\u001b[0m\u001b[0mCOLOR_BGR2GRAY\u001b[0m\u001b[1;33m)\u001b[0m\u001b[1;33m\u001b[0m\u001b[1;33m\u001b[0m\u001b[0m\n\u001b[0m\u001b[0;32m      5\u001b[0m \u001b[0mret\u001b[0m\u001b[1;33m,\u001b[0m \u001b[0mbinary\u001b[0m \u001b[1;33m=\u001b[0m \u001b[0mcv2\u001b[0m\u001b[1;33m.\u001b[0m\u001b[0mthreshold\u001b[0m\u001b[1;33m(\u001b[0m\u001b[0mgray\u001b[0m\u001b[1;33m,\u001b[0m\u001b[1;36m127\u001b[0m\u001b[1;33m,\u001b[0m\u001b[1;36m255\u001b[0m\u001b[1;33m,\u001b[0m\u001b[0mcv2\u001b[0m\u001b[1;33m.\u001b[0m\u001b[0mTHRESH_BINARY\u001b[0m\u001b[1;33m)\u001b[0m\u001b[1;33m\u001b[0m\u001b[1;33m\u001b[0m\u001b[0m\n\u001b[0;32m      6\u001b[0m \u001b[1;33m\u001b[0m\u001b[0m\n",
      "\u001b[1;31merror\u001b[0m: OpenCV(4.1.0) C:\\projects\\opencv-python\\opencv\\modules\\imgproc\\src\\color.cpp:182: error: (-215:Assertion failed) !_src.empty() in function 'cv::cvtColor'\n"
     ]
    }
   ],
   "source": [
    "import cv2\n",
    "\n",
    "img = cv2.imread('../input/Pic/th.jpg')\n",
    "gray = cv2.cvtColor(img,cv2.COLOR_BGR2GRAY)\n",
    "ret, binary = cv2.threshold(gray,127,255,cv2.THRESH_BINARY)\n",
    "\n",
    "contours, hierarchy = cv2.findContours(binary,cv2.RETR_TREE,cv2.CHAIN_APPROX_SIMPLE)\n",
    "cv2.drawContours(img,contours,-1,(0,0,255),1)\n",
    "\n",
    "cv2.imshow(\"img\", img)\n",
    "cv2.waitKey(0)"
   ]
  },
  {
   "cell_type": "markdown",
   "metadata": {},
   "source": []
  },
  {
   "cell_type": "code",
   "execution_count": null,
   "metadata": {},
   "outputs": [],
   "source": []
  },
  {
   "cell_type": "code",
   "execution_count": null,
   "metadata": {},
   "outputs": [],
   "source": []
  }
 ],
 "metadata": {
  "kernelspec": {
   "display_name": "Python 3",
   "language": "python",
   "name": "python3"
  },
  "language_info": {
   "codemirror_mode": {
    "name": "ipython",
    "version": 3
   },
   "file_extension": ".py",
   "mimetype": "text/x-python",
   "name": "python",
   "nbconvert_exporter": "python",
   "pygments_lexer": "ipython3",
   "version": "3.7.4"
  }
 },
 "nbformat": 4,
 "nbformat_minor": 2
}
